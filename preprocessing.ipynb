{
 "cells": [
  {
   "cell_type": "code",
   "execution_count": 4,
   "metadata": {},
   "outputs": [],
   "source": [
    "import pandas as pd"
   ]
  },
  {
   "cell_type": "code",
   "execution_count": 5,
   "metadata": {},
   "outputs": [],
   "source": [
    "df = pd.read_csv('Data/TlkPersonaChatRus/dialogues.tsv',sep=\"\\t\",header=0)"
   ]
  },
  {
   "cell_type": "code",
   "execution_count": 6,
   "metadata": {},
   "outputs": [
    {
     "data": {
      "text/html": [
       "<div>\n",
       "<style scoped>\n",
       "    .dataframe tbody tr th:only-of-type {\n",
       "        vertical-align: middle;\n",
       "    }\n",
       "\n",
       "    .dataframe tbody tr th {\n",
       "        vertical-align: top;\n",
       "    }\n",
       "\n",
       "    .dataframe thead th {\n",
       "        text-align: right;\n",
       "    }\n",
       "</style>\n",
       "<table border=\"1\" class=\"dataframe\">\n",
       "  <thead>\n",
       "    <tr style=\"text-align: right;\">\n",
       "      <th></th>\n",
       "      <th>persona_1_profile</th>\n",
       "      <th>persona_2_profile</th>\n",
       "      <th>dialogue</th>\n",
       "    </tr>\n",
       "  </thead>\n",
       "  <tbody>\n",
       "    <tr>\n",
       "      <td>0</td>\n",
       "      <td>&lt;span class=participant_1&gt;У меня любимая работ...</td>\n",
       "      <td>&lt;span class=participant_2&gt;Ищу принца.&lt;br /&gt;Вед...</td>\n",
       "      <td>&lt;span class=participant_2&gt;Пользователь 2: Прив...</td>\n",
       "    </tr>\n",
       "    <tr>\n",
       "      <td>1</td>\n",
       "      <td>&lt;span class=participant_1&gt;Я работаю учителем&lt;b...</td>\n",
       "      <td>&lt;span class=participant_2&gt;Я бизнесмен&lt;br /&gt;У м...</td>\n",
       "      <td>&lt;span class=participant_1&gt;Пользователь 1: Прив...</td>\n",
       "    </tr>\n",
       "    <tr>\n",
       "      <td>2</td>\n",
       "      <td>&lt;span class=participant_1&gt;Я купила дом&lt;br /&gt;Я ...</td>\n",
       "      <td>&lt;span class=participant_2&gt;Я пою в караоке&lt;br /...</td>\n",
       "      <td>&lt;span class=participant_1&gt;Пользователь 1: Прив...</td>\n",
       "    </tr>\n",
       "    <tr>\n",
       "      <td>3</td>\n",
       "      <td>&lt;span class=participant_1&gt;я врач и женат&lt;br /&gt;...</td>\n",
       "      <td>&lt;span class=participant_2&gt;Я мальчик&lt;br /&gt;Я учу...</td>\n",
       "      <td>&lt;span class=participant_2&gt;Пользователь 2: Здра...</td>\n",
       "    </tr>\n",
       "    <tr>\n",
       "      <td>4</td>\n",
       "      <td>&lt;span class=participant_1&gt;Я школьница.&lt;br /&gt;Я ...</td>\n",
       "      <td>&lt;span class=participant_2&gt;Я простоват.&lt;br /&gt;Лю...</td>\n",
       "      <td>&lt;span class=participant_1&gt;Пользователь 1: Прив...</td>\n",
       "    </tr>\n",
       "    <tr>\n",
       "      <td>...</td>\n",
       "      <td>...</td>\n",
       "      <td>...</td>\n",
       "      <td>...</td>\n",
       "    </tr>\n",
       "    <tr>\n",
       "      <td>10008</td>\n",
       "      <td>&lt;span class=participant_1&gt;У меня 6 собак.&lt;br /...</td>\n",
       "      <td>&lt;span class=participant_2&gt;Я музыкант.&lt;br /&gt;Люб...</td>\n",
       "      <td>\"&lt;span class=participant_1&gt;Пользователь 1: При...</td>\n",
       "    </tr>\n",
       "    <tr>\n",
       "      <td>10009</td>\n",
       "      <td>&lt;span class=participant_1&gt;Я верная.&lt;br /&gt;Мне н...</td>\n",
       "      <td>&lt;span class=participant_2&gt;Я люблю рок&lt;br /&gt;Пиш...</td>\n",
       "      <td>&lt;span class=participant_1&gt;Пользователь 1: Прив...</td>\n",
       "    </tr>\n",
       "    <tr>\n",
       "      <td>10010</td>\n",
       "      <td>&lt;span class=participant_1&gt;Я студент.&lt;br /&gt;Я уч...</td>\n",
       "      <td>&lt;span class=participant_2&gt;Директор турфирмы.&lt;b...</td>\n",
       "      <td>&lt;span class=participant_1&gt;Пользователь 1: Прив...</td>\n",
       "    </tr>\n",
       "    <tr>\n",
       "      <td>10011</td>\n",
       "      <td>&lt;span class=participant_1&gt;Моя мама живет со мн...</td>\n",
       "      <td>&lt;span class=participant_2&gt;Я воспитатель&lt;br /&gt;л...</td>\n",
       "      <td>&lt;span class=participant_1&gt;Пользователь 1: Прив...</td>\n",
       "    </tr>\n",
       "    <tr>\n",
       "      <td>10012</td>\n",
       "      <td>&lt;span class=participant_1&gt;Я женат.&lt;br /&gt;Люблю ...</td>\n",
       "      <td>&lt;span class=participant_2&gt;Я люблю читать&lt;br /&gt;...</td>\n",
       "      <td>&lt;span class=participant_2&gt;Пользователь 2: Прив...</td>\n",
       "    </tr>\n",
       "  </tbody>\n",
       "</table>\n",
       "<p>10013 rows × 3 columns</p>\n",
       "</div>"
      ],
      "text/plain": [
       "                                       persona_1_profile  \\\n",
       "0      <span class=participant_1>У меня любимая работ...   \n",
       "1      <span class=participant_1>Я работаю учителем<b...   \n",
       "2      <span class=participant_1>Я купила дом<br />Я ...   \n",
       "3      <span class=participant_1>я врач и женат<br />...   \n",
       "4      <span class=participant_1>Я школьница.<br />Я ...   \n",
       "...                                                  ...   \n",
       "10008  <span class=participant_1>У меня 6 собак.<br /...   \n",
       "10009  <span class=participant_1>Я верная.<br />Мне н...   \n",
       "10010  <span class=participant_1>Я студент.<br />Я уч...   \n",
       "10011  <span class=participant_1>Моя мама живет со мн...   \n",
       "10012  <span class=participant_1>Я женат.<br />Люблю ...   \n",
       "\n",
       "                                       persona_2_profile  \\\n",
       "0      <span class=participant_2>Ищу принца.<br />Вед...   \n",
       "1      <span class=participant_2>Я бизнесмен<br />У м...   \n",
       "2      <span class=participant_2>Я пою в караоке<br /...   \n",
       "3      <span class=participant_2>Я мальчик<br />Я учу...   \n",
       "4      <span class=participant_2>Я простоват.<br />Лю...   \n",
       "...                                                  ...   \n",
       "10008  <span class=participant_2>Я музыкант.<br />Люб...   \n",
       "10009  <span class=participant_2>Я люблю рок<br />Пиш...   \n",
       "10010  <span class=participant_2>Директор турфирмы.<b...   \n",
       "10011  <span class=participant_2>Я воспитатель<br />л...   \n",
       "10012  <span class=participant_2>Я люблю читать<br />...   \n",
       "\n",
       "                                                dialogue  \n",
       "0      <span class=participant_2>Пользователь 2: Прив...  \n",
       "1      <span class=participant_1>Пользователь 1: Прив...  \n",
       "2      <span class=participant_1>Пользователь 1: Прив...  \n",
       "3      <span class=participant_2>Пользователь 2: Здра...  \n",
       "4      <span class=participant_1>Пользователь 1: Прив...  \n",
       "...                                                  ...  \n",
       "10008  \"<span class=participant_1>Пользователь 1: При...  \n",
       "10009  <span class=participant_1>Пользователь 1: Прив...  \n",
       "10010  <span class=participant_1>Пользователь 1: Прив...  \n",
       "10011  <span class=participant_1>Пользователь 1: Прив...  \n",
       "10012  <span class=participant_2>Пользователь 2: Прив...  \n",
       "\n",
       "[10013 rows x 3 columns]"
      ]
     },
     "execution_count": 6,
     "metadata": {},
     "output_type": "execute_result"
    }
   ],
   "source": [
    "df"
   ]
  },
  {
   "cell_type": "code",
   "execution_count": 7,
   "metadata": {},
   "outputs": [
    {
     "data": {
      "text/plain": [
       "'<span class=participant_1>У меня любимая работа.<br />Я уважаю людей.<br />У меня есть животное.<br />У меня хороший друг.<br />Я люблю кофе.<br /></span>'"
      ]
     },
     "execution_count": 7,
     "metadata": {},
     "output_type": "execute_result"
    }
   ],
   "source": [
    "df['persona_1_profile'][0]"
   ]
  },
  {
   "cell_type": "code",
   "execution_count": 8,
   "metadata": {},
   "outputs": [
    {
     "data": {
      "text/plain": [
       "'<span class=participant_2>Ищу принца.<br />Веду активный образ жизни.<br />Люблю читать классику.<br />Выращиваю фиалки.<br />Люблю общение.<br /></span>'"
      ]
     },
     "execution_count": 8,
     "metadata": {},
     "output_type": "execute_result"
    }
   ],
   "source": [
    "df['persona_2_profile'][0]"
   ]
  },
  {
   "cell_type": "code",
   "execution_count": 14,
   "metadata": {},
   "outputs": [
    {
     "data": {
      "text/plain": [
       "'<span class=participant_2>Пользователь 2: Привет) расскажи о себе</span><br /><span class=participant_1>Пользователь 1: Привет) под вкусный кофеек настроение поболтать появилось<br />)</span><br /><span class=participant_2>Пользователь 2: Что читаешь? Мне нравится классика</span><br /><span class=participant_2>Пользователь 2: Я тоже люблю пообщаться</span><br /><span class=participant_1>Пользователь 1: Люблю животных, просто обожаю, как и свою работу)</span><br /><span class=participant_1>Пользователь 1: Я фантастику люблю</span><br /><span class=participant_2>Пользователь 2: А я выращиваю фиалки</span><br /><span class=participant_2>Пользователь 2: И веду здоровый и активный образ жизни!</span><br /><span class=participant_1>Пользователь 1: Ух ты, интересно.</span><br /><span class=participant_2>Пользователь 2: Ты случайно не принц на белом коне? Я его очень жду<br />..</span><br /><span class=participant_1>Пользователь 1: А у меня из хобби каждую неделю тусить с моим лучшим<br />другом)</span><br />'"
      ]
     },
     "execution_count": 14,
     "metadata": {},
     "output_type": "execute_result"
    }
   ],
   "source": [
    "df['dialogue'][0]"
   ]
  },
  {
   "cell_type": "code",
   "execution_count": 89,
   "metadata": {},
   "outputs": [],
   "source": [
    "i = 22"
   ]
  },
  {
   "cell_type": "code",
   "execution_count": 90,
   "metadata": {},
   "outputs": [
    {
     "data": {
      "text/plain": [
       "['\"<span class=participant_1>Пользователь 1: Привет',\n",
       " ' <span class=participant_2>Пользователь 2: привет',\n",
       " ' <span class=participant_2>Пользователь 2: как дела? ты откуда?',\n",
       " ' <span class=participant_1>Пользователь 1: Хорошо! А у тебя?',\n",
       " ' <span class=participant_1>Пользователь 1: Днепр! А ты?',\n",
       " ' <span class=participant_2>Пользователь 2: хорошо, я из Ялуторовска, это в России, Тюменская область',\n",
       " ' <span class=participant_1>Пользователь 1: Далеко\\r\\nКем работаешь?',\n",
       " ' <span class=participant_2>Пользователь 2: Работаю на себя)))',\n",
       " ' <span class=participant_2>Пользователь 2: а ты?',\n",
       " ' <span class=participant_1>Пользователь 1: А я работаю фрилансером',\n",
       " ' <span class=participant_2>Пользователь 2: Что делаешь в свободное время?',\n",
       " ' <span class=participant_1>Пользователь 1: Чем занимаешься в свободное время?',\n",
       " ' <span class=participant_2>Пользователь 2: :)',\n",
       " ' <span class=participant_1>Пользователь 1: Саморазвиваюсть, ценю время м не трачу его попусту',\n",
       " ' <span class=participant_1>Пользователь 1: А ты?',\n",
       " ' <span class=participant_2>Пользователь 2: Люблю погулять в парке ... Саморазвитие это всегда хорошо',\n",
       " ' <span class=participant_1>Пользователь 1: Ещё я придумываю что-то ное, чтоб удивить людей',\n",
       " ' <span class=participant_1>Пользователь 1: Новое*',\n",
       " ' <span class=participant_2>Пользователь 2: Нравиться делать людей счастливее',\n",
       " ' <span class=participant_1>Пользователь 1: Именно так',\n",
       " ' \"']"
      ]
     },
     "execution_count": 90,
     "metadata": {},
     "output_type": "execute_result"
    }
   ],
   "source": [
    "df['dialogue'][i].replace('<br />',' ').split('</span>')"
   ]
  },
  {
   "cell_type": "code",
   "execution_count": 71,
   "metadata": {},
   "outputs": [],
   "source": [
    "sh = df['dialogue'][i].replace('<br />',' ').split('</span>')"
   ]
  },
  {
   "cell_type": "code",
   "execution_count": null,
   "metadata": {},
   "outputs": [],
   "source": []
  },
  {
   "cell_type": "code",
   "execution_count": null,
   "metadata": {},
   "outputs": [],
   "source": []
  },
  {
   "cell_type": "code",
   "execution_count": 94,
   "metadata": {},
   "outputs": [
    {
     "name": "stdout",
     "output_type": "stream",
     "text": [
      "jfjej\n",
      "fsd\n"
     ]
    }
   ],
   "source": [
    "print('jfjej\\r\\nfsd')"
   ]
  },
  {
   "cell_type": "code",
   "execution_count": 72,
   "metadata": {},
   "outputs": [
    {
     "data": {
      "text/plain": [
       "13"
      ]
     },
     "execution_count": 72,
     "metadata": {},
     "output_type": "execute_result"
    }
   ],
   "source": [
    "len(sh)"
   ]
  },
  {
   "cell_type": "code",
   "execution_count": 73,
   "metadata": {},
   "outputs": [],
   "source": [
    "sh = sh[:-1]"
   ]
  },
  {
   "cell_type": "code",
   "execution_count": 96,
   "metadata": {},
   "outputs": [
    {
     "data": {
      "text/plain": [
       "1531"
      ]
     },
     "execution_count": 96,
     "metadata": {},
     "output_type": "execute_result"
    }
   ],
   "source": [
    "k"
   ]
  },
  {
   "cell_type": "code",
   "execution_count": 99,
   "metadata": {},
   "outputs": [
    {
     "data": {
      "text/plain": [
       "918"
      ]
     },
     "execution_count": 99,
     "metadata": {},
     "output_type": "execute_result"
    }
   ],
   "source": [
    "k"
   ]
  },
  {
   "cell_type": "code",
   "execution_count": 74,
   "metadata": {},
   "outputs": [
    {
     "data": {
      "text/plain": [
       "'<span class=participant_1>Пользователь 1: '"
      ]
     },
     "execution_count": 74,
     "metadata": {},
     "output_type": "execute_result"
    }
   ],
   "source": [
    "sh[0][:42]"
   ]
  },
  {
   "cell_type": "code",
   "execution_count": 75,
   "metadata": {},
   "outputs": [
    {
     "data": {
      "text/plain": [
       "'Привет!'"
      ]
     },
     "execution_count": 75,
     "metadata": {},
     "output_type": "execute_result"
    }
   ],
   "source": [
    "sh[0][42:]"
   ]
  },
  {
   "cell_type": "code",
   "execution_count": 102,
   "metadata": {},
   "outputs": [],
   "source": [
    "k = 0\n",
    "for i in range(df.shape[0]): \n",
    "    sh = df['dialogue'][i]\n",
    "    if '\\n\\r' in sh: \n",
    "        print('yes  ' + str(i))\n",
    "        k+=1"
   ]
  },
  {
   "cell_type": "code",
   "execution_count": 105,
   "metadata": {},
   "outputs": [
    {
     "data": {
      "text/plain": [
       "['Привет! рада новому знакомству, как твои дела?',\n",
       " 'Привет я прораб на стройке,а ты кем работаешь? Я женат и очень люблю свою жену) очень люблю путешествовать и от жизни хочу все',\n",
       " 'Я работаю в школе преподавателем. Давно работаешь на стройке?',\n",
       " 'Понятно я из школы только програматику моя любовь компьютер, на стройке уже 5 лет. Как твоя жизнь?',\n",
       " 'а я наоборот не любила. Для меня ближе книги, я очень люблю читать, особенно художественную литературу. Наверно из- за этого я испортила зрение и теперь ношу очки',\n",
       " 'Понятно ну у каждого человека свои интересы',\n",
       " 'Жизнь хорошо) вот тока пришла с бассейна. Хоть он и находится далеко всегда возвращаюсь пешком , наслаждаюсь красотой города)',\n",
       " 'Ладно не буду больше задерживать пока.',\n",
       " 'пока']"
      ]
     },
     "execution_count": 105,
     "metadata": {},
     "output_type": "execute_result"
    }
   ],
   "source": [
    "with open('Data/train/di_all.txt', 'w') as f:\n",
    "    for i in range(df.shape[0]):\n",
    "        sh = df['dialogue'][i].replace('<br />',' ').replace('\\n', ' ').replace('\\r', '').split('</span>')[:-1]\n",
    "        s = ''\n",
    "        tmp = []\n",
    "        for line in sh:\n",
    "            line = line.lstrip()\n",
    "            if line[:42] != s:\n",
    "                tmp.append(line[42:])\n",
    "                s = line[:42]\n",
    "            else:\n",
    "                if tmp[len(tmp)-1][-1:] in ['.','?','!','(', ')', ',']:\n",
    "                    tmp[len(tmp)-1] += ' ' + line[42:]\n",
    "                else:\n",
    "                    tmp[len(tmp)-1] += '. ' + line[42:]\n",
    "\n",
    "\n",
    "        for j in range(len(tmp)-1):\n",
    "            f.write(tmp[j].lower() + '\\t' + tmp[j+1].lower())\n",
    "            if (i != df.shape[0]-1) or (j != len(tmp)-2):\n",
    "                f.write('\\n')\n",
    "tmp\n"
   ]
  },
  {
   "cell_type": "code",
   "execution_count": 68,
   "metadata": {},
   "outputs": [
    {
     "data": {
      "text/plain": [
       "7"
      ]
     },
     "execution_count": 68,
     "metadata": {},
     "output_type": "execute_result"
    }
   ],
   "source": [
    "len(tmp)"
   ]
  },
  {
   "cell_type": "code",
   "execution_count": 84,
   "metadata": {},
   "outputs": [
    {
     "data": {
      "text/plain": [
       "10013"
      ]
     },
     "execution_count": 84,
     "metadata": {},
     "output_type": "execute_result"
    }
   ],
   "source": [
    "df.shape[0]"
   ]
  },
  {
   "cell_type": "code",
   "execution_count": 85,
   "metadata": {},
   "outputs": [
    {
     "data": {
      "text/plain": [
       "10013"
      ]
     },
     "execution_count": 85,
     "metadata": {},
     "output_type": "execute_result"
    }
   ],
   "source": [
    "k = 0\n",
    "for i in range(df.shape[0]-300):\n",
    "    k += 1\n",
    "for i in range(300):\n",
    "    k += 1\n",
    "k"
   ]
  },
  {
   "cell_type": "code",
   "execution_count": 106,
   "metadata": {},
   "outputs": [],
   "source": [
    "with open('Data/train/di_all.txt', 'r') as f:\n",
    "    with open('Data/train/di_train', 'w') as file:\n",
    "        for i in range(df.shape[0]-300):\n",
    "            file.write(f.readline())\n",
    "            \n",
    "    with open('Data/train/di_test', 'w') as file:\n",
    "        for i in range(300):\n",
    "            file.write(f.readline())"
   ]
  },
  {
   "cell_type": "code",
   "execution_count": null,
   "metadata": {},
   "outputs": [],
   "source": []
  }
 ],
 "metadata": {
  "kernelspec": {
   "display_name": "Python 3",
   "language": "python",
   "name": "python3"
  },
  "language_info": {
   "codemirror_mode": {
    "name": "ipython",
    "version": 3
   },
   "file_extension": ".py",
   "mimetype": "text/x-python",
   "name": "python",
   "nbconvert_exporter": "python",
   "pygments_lexer": "ipython3",
   "version": "3.7.4"
  }
 },
 "nbformat": 4,
 "nbformat_minor": 4
}
